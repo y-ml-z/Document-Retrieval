{
  "nbformat": 4,
  "nbformat_minor": 0,
  "metadata": {
    "colab": {
      "name": "Untitled7.ipynb",
      "provenance": [],
      "collapsed_sections": [],
      "machine_shape": "hm"
    },
    "kernelspec": {
      "name": "python3",
      "display_name": "Python 3"
    }
  },
  "cells": [
    {
      "cell_type": "markdown",
      "metadata": {
        "id": "onaBtGbu7YhI",
        "colab_type": "text"
      },
      "source": [
        "###**Document retrieval from wikipedia**\n",
        "Document retrieval is defined as the matching of some stated user query against a set of free-text records. These records could be any type of mainly unstructured text, such as newspaper articles, real estate records or paragraphs in a manual. User queries can range from multi-sentence full descriptions of an information need to a few words."
      ]
    },
    {
      "cell_type": "code",
      "metadata": {
        "id": "hWdSbFkI7pTZ",
        "colab_type": "code",
        "colab": {}
      },
      "source": [
        "import os\n",
        "import numpy as np\n",
        "import pandas as pd\n",
        "import matplotlib.pyplot as plt\n",
        "from collections import Counter\n",
        "from sklearn.neighbors import NearestNeighbors\n",
        "from sklearn.metrics.pairwise import paired_distances\n",
        "from sklearn.feature_extraction.text import CountVectorizer\n",
        "from sklearn.feature_extraction.text import TfidfTransformer, TfidfVectorizer\n",
        "\n",
        "%matplotlib inline\n"
      ],
      "execution_count": 0,
      "outputs": []
    },
    {
      "cell_type": "code",
      "metadata": {
        "id": "oBkdlQo2k3ae",
        "colab_type": "code",
        "colab": {}
      },
      "source": [
        "df = pd.read_csv(\"people_wiki.csv\", delimiter=\",\")"
      ],
      "execution_count": 0,
      "outputs": []
    },
    {
      "cell_type": "code",
      "metadata": {
        "id": "vXIyQBmjoaw3",
        "colab_type": "code",
        "outputId": "7987c5c5-f03b-4e89-d091-e34ba403a3bd",
        "colab": {
          "base_uri": "https://localhost:8080/",
          "height": 204
        }
      },
      "source": [
        "df.head(5)"
      ],
      "execution_count": 0,
      "outputs": [
        {
          "output_type": "execute_result",
          "data": {
            "text/html": [
              "<div>\n",
              "<style scoped>\n",
              "    .dataframe tbody tr th:only-of-type {\n",
              "        vertical-align: middle;\n",
              "    }\n",
              "\n",
              "    .dataframe tbody tr th {\n",
              "        vertical-align: top;\n",
              "    }\n",
              "\n",
              "    .dataframe thead th {\n",
              "        text-align: right;\n",
              "    }\n",
              "</style>\n",
              "<table border=\"1\" class=\"dataframe\">\n",
              "  <thead>\n",
              "    <tr style=\"text-align: right;\">\n",
              "      <th></th>\n",
              "      <th>URI</th>\n",
              "      <th>name</th>\n",
              "      <th>text</th>\n",
              "    </tr>\n",
              "  </thead>\n",
              "  <tbody>\n",
              "    <tr>\n",
              "      <th>0</th>\n",
              "      <td>&lt;http://dbpedia.org/resource/Digby_Morrell&gt;</td>\n",
              "      <td>Digby Morrell</td>\n",
              "      <td>digby morrell born 10 october 1979 is a former...</td>\n",
              "    </tr>\n",
              "    <tr>\n",
              "      <th>1</th>\n",
              "      <td>&lt;http://dbpedia.org/resource/Alfred_J._Lewy&gt;</td>\n",
              "      <td>Alfred J. Lewy</td>\n",
              "      <td>alfred j lewy aka sandy lewy graduated from un...</td>\n",
              "    </tr>\n",
              "    <tr>\n",
              "      <th>2</th>\n",
              "      <td>&lt;http://dbpedia.org/resource/Harpdog_Brown&gt;</td>\n",
              "      <td>Harpdog Brown</td>\n",
              "      <td>harpdog brown is a singer and harmonica player...</td>\n",
              "    </tr>\n",
              "    <tr>\n",
              "      <th>3</th>\n",
              "      <td>&lt;http://dbpedia.org/resource/Franz_Rottensteiner&gt;</td>\n",
              "      <td>Franz Rottensteiner</td>\n",
              "      <td>franz rottensteiner born in waidmannsfeld lowe...</td>\n",
              "    </tr>\n",
              "    <tr>\n",
              "      <th>4</th>\n",
              "      <td>&lt;http://dbpedia.org/resource/G-Enka&gt;</td>\n",
              "      <td>G-Enka</td>\n",
              "      <td>henry krvits born 30 december 1974 in tallinn ...</td>\n",
              "    </tr>\n",
              "  </tbody>\n",
              "</table>\n",
              "</div>"
            ],
            "text/plain": [
              "                                                 URI  ...                                               text\n",
              "0        <http://dbpedia.org/resource/Digby_Morrell>  ...  digby morrell born 10 october 1979 is a former...\n",
              "1       <http://dbpedia.org/resource/Alfred_J._Lewy>  ...  alfred j lewy aka sandy lewy graduated from un...\n",
              "2        <http://dbpedia.org/resource/Harpdog_Brown>  ...  harpdog brown is a singer and harmonica player...\n",
              "3  <http://dbpedia.org/resource/Franz_Rottensteiner>  ...  franz rottensteiner born in waidmannsfeld lowe...\n",
              "4               <http://dbpedia.org/resource/G-Enka>  ...  henry krvits born 30 december 1974 in tallinn ...\n",
              "\n",
              "[5 rows x 3 columns]"
            ]
          },
          "metadata": {
            "tags": []
          },
          "execution_count": 27
        }
      ]
    },
    {
      "cell_type": "code",
      "metadata": {
        "id": "7_W4dBJszulM",
        "colab_type": "code",
        "outputId": "c66400f7-7247-4ce8-b32f-e799574c662d",
        "colab": {
          "base_uri": "https://localhost:8080/",
          "height": 80
        }
      },
      "source": [
        "Digby=df[df['name'] == 'Digby Morrell']\n",
        "Digby"
      ],
      "execution_count": 0,
      "outputs": [
        {
          "output_type": "execute_result",
          "data": {
            "text/html": [
              "<div>\n",
              "<style scoped>\n",
              "    .dataframe tbody tr th:only-of-type {\n",
              "        vertical-align: middle;\n",
              "    }\n",
              "\n",
              "    .dataframe tbody tr th {\n",
              "        vertical-align: top;\n",
              "    }\n",
              "\n",
              "    .dataframe thead th {\n",
              "        text-align: right;\n",
              "    }\n",
              "</style>\n",
              "<table border=\"1\" class=\"dataframe\">\n",
              "  <thead>\n",
              "    <tr style=\"text-align: right;\">\n",
              "      <th></th>\n",
              "      <th>URI</th>\n",
              "      <th>name</th>\n",
              "      <th>text</th>\n",
              "    </tr>\n",
              "  </thead>\n",
              "  <tbody>\n",
              "    <tr>\n",
              "      <th>0</th>\n",
              "      <td>&lt;http://dbpedia.org/resource/Digby_Morrell&gt;</td>\n",
              "      <td>Digby Morrell</td>\n",
              "      <td>digby morrell born 10 october 1979 is a former...</td>\n",
              "    </tr>\n",
              "  </tbody>\n",
              "</table>\n",
              "</div>"
            ],
            "text/plain": [
              "                                           URI  ...                                               text\n",
              "0  <http://dbpedia.org/resource/Digby_Morrell>  ...  digby morrell born 10 october 1979 is a former...\n",
              "\n",
              "[1 rows x 3 columns]"
            ]
          },
          "metadata": {
            "tags": []
          },
          "execution_count": 29
        }
      ]
    },
    {
      "cell_type": "code",
      "metadata": {
        "id": "gKEFsJguz1lv",
        "colab_type": "code",
        "outputId": "151f3c36-b6ac-4525-cba5-981cb70a3ebb",
        "colab": {
          "base_uri": "https://localhost:8080/",
          "height": 51
        }
      },
      "source": [
        "Digby['text']"
      ],
      "execution_count": 0,
      "outputs": [
        {
          "output_type": "execute_result",
          "data": {
            "text/plain": [
              "0    digby morrell born 10 october 1979 is a former...\n",
              "Name: text, dtype: object"
            ]
          },
          "metadata": {
            "tags": []
          },
          "execution_count": 30
        }
      ]
    },
    {
      "cell_type": "code",
      "metadata": {
        "id": "_IJy7h4AlO2A",
        "colab_type": "code",
        "colab": {}
      },
      "source": [
        "\n",
        "# Bag of Words model\n",
        "Bag = CountVectorizer().fit_transform(df['text'])\n",
        "#NearestNeighbors model\n",
        "model = NearestNeighbors(metric = 'euclidean').fit(Bag)\n",
        " "
      ],
      "execution_count": 0,
      "outputs": []
    },
    {
      "cell_type": "code",
      "metadata": {
        "id": "x3ijgxxbm5jO",
        "colab_type": "code",
        "colab": {}
      },
      "source": [
        "#  Digby Morrell's top 5 nearest neighbors\n",
        "Digby_Morrell_index = df[df['name'] == 'Digby Morrell'].index[0]\n",
        "distances, indices = model.kneighbors(Bag[Digby_Morrell_index], n_neighbors = 5)\n"
      ],
      "execution_count": 0,
      "outputs": []
    },
    {
      "cell_type": "code",
      "metadata": {
        "id": "Db2fMMZOprVy",
        "colab_type": "code",
        "outputId": "5aaa6524-549d-431d-e4ba-bb7ed5d08aaf",
        "colab": {
          "base_uri": "https://localhost:8080/",
          "height": 34
        }
      },
      "source": [
        "distances"
      ],
      "execution_count": 0,
      "outputs": [
        {
          "output_type": "execute_result",
          "data": {
            "text/plain": [
              "array([[ 0.        , 18.27566688, 19.10497317, 19.18332609, 19.49358869]])"
            ]
          },
          "metadata": {
            "tags": []
          },
          "execution_count": 33
        }
      ]
    },
    {
      "cell_type": "code",
      "metadata": {
        "id": "gbakh5Czp7RL",
        "colab_type": "code",
        "outputId": "f87df47b-abdb-4a92-a107-d9601c2f3b46",
        "colab": {
          "base_uri": "https://localhost:8080/",
          "height": 204
        }
      },
      "source": [
        "distance = pd.DataFrame({'Distance': distances.flatten(), 'ID': indices.flatten() })\n",
        "near = (df.merge(distance, right_on = 'ID', left_index = True).sort_values('Distance')[['ID', 'name', 'Distance']])\n",
        "near"
      ],
      "execution_count": 0,
      "outputs": [
        {
          "output_type": "execute_result",
          "data": {
            "text/html": [
              "<div>\n",
              "<style scoped>\n",
              "    .dataframe tbody tr th:only-of-type {\n",
              "        vertical-align: middle;\n",
              "    }\n",
              "\n",
              "    .dataframe tbody tr th {\n",
              "        vertical-align: top;\n",
              "    }\n",
              "\n",
              "    .dataframe thead th {\n",
              "        text-align: right;\n",
              "    }\n",
              "</style>\n",
              "<table border=\"1\" class=\"dataframe\">\n",
              "  <thead>\n",
              "    <tr style=\"text-align: right;\">\n",
              "      <th></th>\n",
              "      <th>ID</th>\n",
              "      <th>name</th>\n",
              "      <th>Distance</th>\n",
              "    </tr>\n",
              "  </thead>\n",
              "  <tbody>\n",
              "    <tr>\n",
              "      <th>0</th>\n",
              "      <td>0</td>\n",
              "      <td>Digby Morrell</td>\n",
              "      <td>0.000000</td>\n",
              "    </tr>\n",
              "    <tr>\n",
              "      <th>1</th>\n",
              "      <td>32472</td>\n",
              "      <td>Steven Browne</td>\n",
              "      <td>18.275667</td>\n",
              "    </tr>\n",
              "    <tr>\n",
              "      <th>2</th>\n",
              "      <td>8758</td>\n",
              "      <td>Dylan McLaren</td>\n",
              "      <td>19.104973</td>\n",
              "    </tr>\n",
              "    <tr>\n",
              "      <th>3</th>\n",
              "      <td>36597</td>\n",
              "      <td>Peter Freeman (footballer)</td>\n",
              "      <td>19.183326</td>\n",
              "    </tr>\n",
              "    <tr>\n",
              "      <th>4</th>\n",
              "      <td>32924</td>\n",
              "      <td>Bret Hutchinson</td>\n",
              "      <td>19.493589</td>\n",
              "    </tr>\n",
              "  </tbody>\n",
              "</table>\n",
              "</div>"
            ],
            "text/plain": [
              "      ID                        name   Distance\n",
              "0      0               Digby Morrell   0.000000\n",
              "1  32472               Steven Browne  18.275667\n",
              "2   8758               Dylan McLaren  19.104973\n",
              "3  36597  Peter Freeman (footballer)  19.183326\n",
              "4  32924             Bret Hutchinson  19.493589"
            ]
          },
          "metadata": {
            "tags": []
          },
          "execution_count": 34
        }
      ]
    },
    {
      "cell_type": "markdown",
      "metadata": {
        "id": "0wGPtwdWzMFB",
        "colab_type": "text"
      },
      "source": [
        "Compute TF-IDF for the corpus\n"
      ]
    },
    {
      "cell_type": "code",
      "metadata": {
        "id": "qI4MmPU8yzQk",
        "colab_type": "code",
        "colab": {}
      },
      "source": [
        "def word(vect, word_weight):\n",
        "    \n",
        "    feature_names = np.array(vect.get_feature_names())\n",
        "    data = word_weight.data\n",
        "    indptr = word_weight.indptr\n",
        "    indices = word_weight.indices\n",
        "    n_docs = word_weight.shape[0]\n",
        "    \n",
        "    word_weight_list = []\n",
        "    for i in range(n_docs):\n",
        "        doc = slice(indptr[i], indptr[i + 1])\n",
        "        count, idx = data[doc], indices[doc]\n",
        "        feature = feature_names[idx]\n",
        "        word_weight_dict = Counter({k: v for k, v in zip(feature, count)})\n",
        "        word_weight_list.append(word_weight_dict)\n",
        "    \n",
        "    return word_weight_list"
      ],
      "execution_count": 0,
      "outputs": []
    },
    {
      "cell_type": "code",
      "metadata": {
        "id": "L5HrCz-oVr3p",
        "colab_type": "code",
        "colab": {}
      },
      "source": [
        "diag = CountVectorizer()\n",
        "num_word = diag.fit_transform(df['text'])"
      ],
      "execution_count": 0,
      "outputs": []
    },
    {
      "cell_type": "code",
      "metadata": {
        "id": "7oEC77rsiVkb",
        "colab_type": "code",
        "outputId": "98f39d36-fc82-4912-8b3e-b6f810968d4d",
        "colab": {
          "base_uri": "https://localhost:8080/",
          "height": 142
        }
      },
      "source": [
        "df['word_weight'] = word(diag, num_word)\n",
        "df.head(3)"
      ],
      "execution_count": 0,
      "outputs": [
        {
          "output_type": "execute_result",
          "data": {
            "text/html": [
              "<div>\n",
              "<style scoped>\n",
              "    .dataframe tbody tr th:only-of-type {\n",
              "        vertical-align: middle;\n",
              "    }\n",
              "\n",
              "    .dataframe tbody tr th {\n",
              "        vertical-align: top;\n",
              "    }\n",
              "\n",
              "    .dataframe thead th {\n",
              "        text-align: right;\n",
              "    }\n",
              "</style>\n",
              "<table border=\"1\" class=\"dataframe\">\n",
              "  <thead>\n",
              "    <tr style=\"text-align: right;\">\n",
              "      <th></th>\n",
              "      <th>URI</th>\n",
              "      <th>name</th>\n",
              "      <th>text</th>\n",
              "      <th>word_weight</th>\n",
              "    </tr>\n",
              "  </thead>\n",
              "  <tbody>\n",
              "    <tr>\n",
              "      <th>0</th>\n",
              "      <td>&lt;http://dbpedia.org/resource/Digby_Morrell&gt;</td>\n",
              "      <td>Digby Morrell</td>\n",
              "      <td>digby morrell born 10 october 1979 is a former...</td>\n",
              "      <td>{'digby': 1, 'morrell': 5, 'born': 1, '10': 1,...</td>\n",
              "    </tr>\n",
              "    <tr>\n",
              "      <th>1</th>\n",
              "      <td>&lt;http://dbpedia.org/resource/Alfred_J._Lewy&gt;</td>\n",
              "      <td>Alfred J. Lewy</td>\n",
              "      <td>alfred j lewy aka sandy lewy graduated from un...</td>\n",
              "      <td>{'is': 2, 'with': 2, 'the': 2, 'and': 10, 'in'...</td>\n",
              "    </tr>\n",
              "    <tr>\n",
              "      <th>2</th>\n",
              "      <td>&lt;http://dbpedia.org/resource/Harpdog_Brown&gt;</td>\n",
              "      <td>Harpdog Brown</td>\n",
              "      <td>harpdog brown is a singer and harmonica player...</td>\n",
              "      <td>{'is': 7, 'who': 1, 'with': 4, 'the': 12, 'and...</td>\n",
              "    </tr>\n",
              "  </tbody>\n",
              "</table>\n",
              "</div>"
            ],
            "text/plain": [
              "                                            URI  ...                                        word_weight\n",
              "0   <http://dbpedia.org/resource/Digby_Morrell>  ...  {'digby': 1, 'morrell': 5, 'born': 1, '10': 1,...\n",
              "1  <http://dbpedia.org/resource/Alfred_J._Lewy>  ...  {'is': 2, 'with': 2, 'the': 2, 'and': 10, 'in'...\n",
              "2   <http://dbpedia.org/resource/Harpdog_Brown>  ...  {'is': 7, 'who': 1, 'with': 4, 'the': 12, 'and...\n",
              "\n",
              "[3 rows x 4 columns]"
            ]
          },
          "metadata": {
            "tags": []
          },
          "execution_count": 39
        }
      ]
    },
    {
      "cell_type": "markdown",
      "metadata": {
        "id": "HyQRhat870K8",
        "colab_type": "text"
      },
      "source": [
        "###TF-IDF"
      ]
    },
    {
      "cell_type": "code",
      "metadata": {
        "id": "JMuZzkIC26f3",
        "colab_type": "code",
        "outputId": "7ad1875c-fe3d-48ec-b6f0-157c8e301bda",
        "colab": {
          "base_uri": "https://localhost:8080/",
          "height": 204
        }
      },
      "source": [
        "# tf-idf instead of bag of words\n",
        "newtf = TfidfVectorizer()\n",
        "ntd = newtf.fit_transform(df['text'])\n",
        "\n",
        " \n",
        " \n",
        "co = NearestNeighbors(metric = 'cosine', algorithm = 'brute')\n",
        "co.fit(ntd)\n",
        "Digby_M= df[df['name'] == 'Digby Morrell'].index[0]\n",
        "cosine, indices = co.kneighbors(ntd[Digby_M], n_neighbors = 100)\n",
        "\n",
        "\n",
        "nei= pd.DataFrame({'cosine': cosine.flatten(), 'id': indices.flatten()})\n",
        "neare = (df.\n",
        "                merge(nei, right_on = 'id', left_index = True).\n",
        "                sort_values('cosine')[['id', 'name', 'cosine']])\n",
        "\n",
        "neare.head()"
      ],
      "execution_count": 0,
      "outputs": [
        {
          "output_type": "execute_result",
          "data": {
            "text/html": [
              "<div>\n",
              "<style scoped>\n",
              "    .dataframe tbody tr th:only-of-type {\n",
              "        vertical-align: middle;\n",
              "    }\n",
              "\n",
              "    .dataframe tbody tr th {\n",
              "        vertical-align: top;\n",
              "    }\n",
              "\n",
              "    .dataframe thead th {\n",
              "        text-align: right;\n",
              "    }\n",
              "</style>\n",
              "<table border=\"1\" class=\"dataframe\">\n",
              "  <thead>\n",
              "    <tr style=\"text-align: right;\">\n",
              "      <th></th>\n",
              "      <th>id</th>\n",
              "      <th>name</th>\n",
              "      <th>cosine</th>\n",
              "    </tr>\n",
              "  </thead>\n",
              "  <tbody>\n",
              "    <tr>\n",
              "      <th>0</th>\n",
              "      <td>0</td>\n",
              "      <td>Digby Morrell</td>\n",
              "      <td>0.000000</td>\n",
              "    </tr>\n",
              "    <tr>\n",
              "      <th>1</th>\n",
              "      <td>32472</td>\n",
              "      <td>Steven Browne</td>\n",
              "      <td>0.516072</td>\n",
              "    </tr>\n",
              "    <tr>\n",
              "      <th>2</th>\n",
              "      <td>36597</td>\n",
              "      <td>Peter Freeman (footballer)</td>\n",
              "      <td>0.575215</td>\n",
              "    </tr>\n",
              "    <tr>\n",
              "      <th>3</th>\n",
              "      <td>1347</td>\n",
              "      <td>Lindsay Smith (Australian footballer)</td>\n",
              "      <td>0.591327</td>\n",
              "    </tr>\n",
              "    <tr>\n",
              "      <th>4</th>\n",
              "      <td>40090</td>\n",
              "      <td>Mitch Robinson</td>\n",
              "      <td>0.596708</td>\n",
              "    </tr>\n",
              "  </tbody>\n",
              "</table>\n",
              "</div>"
            ],
            "text/plain": [
              "      id                                   name    cosine\n",
              "0      0                          Digby Morrell  0.000000\n",
              "1  32472                          Steven Browne  0.516072\n",
              "2  36597             Peter Freeman (footballer)  0.575215\n",
              "3   1347  Lindsay Smith (Australian footballer)  0.591327\n",
              "4  40090                         Mitch Robinson  0.596708"
            ]
          },
          "metadata": {
            "tags": []
          },
          "execution_count": 40
        }
      ]
    },
    {
      "cell_type": "code",
      "metadata": {
        "id": "nV90KOPB8Tf-",
        "colab_type": "code",
        "outputId": "13f8836b-48ea-40f5-df3e-9fc267fd3e52",
        "colab": {
          "base_uri": "https://localhost:8080/",
          "height": 204
        }
      },
      "source": [
        "\n",
        "def long (ligne):\n",
        "    return len(ligne.split(' '))\n",
        "\n",
        "\n",
        "df['length'] = df['text'].apply(long) \n",
        "neare = (df.\n",
        "                  merge(nei, right_on = 'id', left_index = True).\n",
        "                  sort_values('cosine')[['id', 'name', 'cosine', 'length']])\n",
        "neare.head()"
      ],
      "execution_count": 0,
      "outputs": [
        {
          "output_type": "execute_result",
          "data": {
            "text/html": [
              "<div>\n",
              "<style scoped>\n",
              "    .dataframe tbody tr th:only-of-type {\n",
              "        vertical-align: middle;\n",
              "    }\n",
              "\n",
              "    .dataframe tbody tr th {\n",
              "        vertical-align: top;\n",
              "    }\n",
              "\n",
              "    .dataframe thead th {\n",
              "        text-align: right;\n",
              "    }\n",
              "</style>\n",
              "<table border=\"1\" class=\"dataframe\">\n",
              "  <thead>\n",
              "    <tr style=\"text-align: right;\">\n",
              "      <th></th>\n",
              "      <th>id</th>\n",
              "      <th>name</th>\n",
              "      <th>cosine</th>\n",
              "      <th>length</th>\n",
              "    </tr>\n",
              "  </thead>\n",
              "  <tbody>\n",
              "    <tr>\n",
              "      <th>0</th>\n",
              "      <td>0</td>\n",
              "      <td>Digby Morrell</td>\n",
              "      <td>0.000000</td>\n",
              "      <td>251</td>\n",
              "    </tr>\n",
              "    <tr>\n",
              "      <th>1</th>\n",
              "      <td>32472</td>\n",
              "      <td>Steven Browne</td>\n",
              "      <td>0.516072</td>\n",
              "      <td>213</td>\n",
              "    </tr>\n",
              "    <tr>\n",
              "      <th>2</th>\n",
              "      <td>36597</td>\n",
              "      <td>Peter Freeman (footballer)</td>\n",
              "      <td>0.575215</td>\n",
              "      <td>222</td>\n",
              "    </tr>\n",
              "    <tr>\n",
              "      <th>3</th>\n",
              "      <td>1347</td>\n",
              "      <td>Lindsay Smith (Australian footballer)</td>\n",
              "      <td>0.591327</td>\n",
              "      <td>215</td>\n",
              "    </tr>\n",
              "    <tr>\n",
              "      <th>4</th>\n",
              "      <td>40090</td>\n",
              "      <td>Mitch Robinson</td>\n",
              "      <td>0.596708</td>\n",
              "      <td>333</td>\n",
              "    </tr>\n",
              "  </tbody>\n",
              "</table>\n",
              "</div>"
            ],
            "text/plain": [
              "      id                                   name    cosine  length\n",
              "0      0                          Digby Morrell  0.000000     251\n",
              "1  32472                          Steven Browne  0.516072     213\n",
              "2  36597             Peter Freeman (footballer)  0.575215     222\n",
              "3   1347  Lindsay Smith (Australian footballer)  0.591327     215\n",
              "4  40090                         Mitch Robinson  0.596708     333"
            ]
          },
          "metadata": {
            "tags": []
          },
          "execution_count": 41
        }
      ]
    },
    {
      "cell_type": "code",
      "metadata": {
        "id": "imUp60VT8991",
        "colab_type": "code",
        "outputId": "29da640f-2385-4f4f-cae4-55392d204d75",
        "colab": {
          "base_uri": "https://localhost:8080/",
          "height": 337
        }
      },
      "source": [
        "\n",
        "neare.plot(kind='area',alpha=0.45,figsize=(15, 5))"
      ],
      "execution_count": 0,
      "outputs": [
        {
          "output_type": "execute_result",
          "data": {
            "text/plain": [
              "<matplotlib.axes._subplots.AxesSubplot at 0x7f8ba2d65be0>"
            ]
          },
          "metadata": {
            "tags": []
          },
          "execution_count": 42
        },
        {
          "output_type": "display_data",
          "data": {
            "image/png": "[encoded data removed]",
            "text/plain": [
              "<Figure size 1080x360 with 1 Axes>"
            ]
          },
          "metadata": {
            "tags": []
          }
        }
      ]
    },
    {
      "cell_type": "code",
      "metadata": {
        "id": "STpuuARF-DTE",
        "colab_type": "code",
        "outputId": "db721522-e5ab-4d0e-a1cf-28a21882c24a",
        "colab": {
          "base_uri": "https://localhost:8080/",
          "height": 279
        }
      },
      "source": [
        "\n",
        "plt.scatter(neare[\"id\"], neare[\"length\"],  color='darkgreen')\n",
        "plt.xlabel(\"id\")\n",
        "plt.ylabel(\"length\")\n",
        "plt.show()"
      ],
      "execution_count": 0,
      "outputs": [
        {
          "output_type": "display_data",
          "data": {
            "image/png": "[encoded data removed]",
            "text/plain": [
              "<Figure size 432x288 with 1 Axes>"
            ]
          },
          "metadata": {
            "tags": []
          }
        }
      ]
    },
    {
      "cell_type": "code",
      "metadata": {
        "id": "Vv9EBGuD-R6E",
        "colab_type": "code",
        "colab": {}
      },
      "source": [
        "\n"
      ],
      "execution_count": 0,
      "outputs": []
    },
    {
      "cell_type": "code",
      "metadata": {
        "id": "z8JSXEVtkIzW",
        "colab_type": "code",
        "colab": {}
      },
      "source": [
        "\n",
        "\n",
        "\n"
      ],
      "execution_count": 0,
      "outputs": []
    }
  ]
}